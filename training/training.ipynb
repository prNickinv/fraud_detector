{
 "cells": [
  {
   "cell_type": "markdown",
   "id": "f4a65510",
   "metadata": {},
   "source": [
    "# Training"
   ]
  },
  {
   "cell_type": "code",
   "execution_count": 6,
   "id": "96a9bad0",
   "metadata": {},
   "outputs": [],
   "source": [
    "import numpy as np\n",
    "import pandas as pd\n",
    "\n",
    "from geopy.distance import great_circle\n",
    "from sklearn.impute import SimpleImputer\n",
    "from catboost import CatBoostClassifier, Pool"
   ]
  },
  {
   "cell_type": "markdown",
   "id": "48b80e67",
   "metadata": {},
   "source": [
    "Helper functions to process data and lists of names for the features of different types"
   ]
  },
  {
   "cell_type": "code",
   "execution_count": 7,
   "id": "a38ad107",
   "metadata": {},
   "outputs": [],
   "source": [
    "features = ['merch', 'cat_id', 'gender', 'one_city', 'us_state', 'jobs', 'hour', 'year', 'month', 'day_of_month', 'day_of_week', 'amount', 'population_city', 'distance']\n",
    "cat_cols = ['merch', 'cat_id', 'gender', 'one_city', 'us_state', 'jobs', 'hour', 'year', 'month', 'day_of_month', 'day_of_week']\n",
    "cont_cols = ['amount', 'population_city', 'distance']"
   ]
  },
  {
   "cell_type": "code",
   "execution_count": 8,
   "id": "fd79f7c3",
   "metadata": {},
   "outputs": [],
   "source": [
    "def extract_time_features(df):\n",
    "    \"\"\"Extracts time-based features from the transaction_time column.\"\"\"\n",
    "     \n",
    "    df['transaction_time'] = pd.to_datetime(df['transaction_time'])\n",
    "    df['hour'] = df['transaction_time'].dt.hour\n",
    "    df['year'] = df['transaction_time'].dt.year\n",
    "    df['month'] = df['transaction_time'].dt.month\n",
    "    df['day_of_month'] = df['transaction_time'].dt.day\n",
    "    df['day_of_week'] = df['transaction_time'].dt.dayofweek\n",
    "    \n",
    "    return df\n",
    "\n",
    "def calculate_distance(df):\n",
    "    \"\"\"Calculates the distance between customer and merchant.\"\"\"\n",
    "\n",
    "    df['distance'] = df.apply(\n",
    "        lambda x: great_circle(\n",
    "            (x['lat'], x['lon']), \n",
    "            (x['merchant_lat'], x['merchant_lon'])\n",
    "        ).km,\n",
    "        axis=1\n",
    "    )\n",
    "    \n",
    "    return df\n",
    "\n",
    "def run_preproc(input_df):\n",
    "    \"\"\"Runs the preprocessing pipeline.\"\"\"\n",
    "    \n",
    "    df = input_df.copy()\n",
    "    df = extract_time_features(df)\n",
    "    df = calculate_distance(df)\n",
    "\n",
    "    # Impute categorical features with the most frequent value\n",
    "    cat_imputer = SimpleImputer(strategy='most_frequent')\n",
    "    df[cat_cols] = cat_imputer.fit_transform(df[cat_cols])\n",
    "    \n",
    "    # Impute continuous features with the mean\n",
    "    cont_imputer = SimpleImputer(strategy='mean')\n",
    "    df[cont_cols] = cont_imputer.fit_transform(df[cont_cols])\n",
    "    \n",
    "    return df[features]"
   ]
  },
  {
   "cell_type": "code",
   "execution_count": 4,
   "id": "412a3e06",
   "metadata": {},
   "outputs": [],
   "source": [
    "train_data = pd.read_csv('../data/train.csv')"
   ]
  },
  {
   "cell_type": "code",
   "execution_count": 9,
   "id": "1058aa6a",
   "metadata": {},
   "outputs": [],
   "source": [
    "train_data_proc = run_preproc(train_data)\n",
    "train_label = train_data['target']"
   ]
  },
  {
   "cell_type": "markdown",
   "id": "e5188ae2",
   "metadata": {},
   "source": [
    "First we split training data to train and validation and check the metrics. If they're OK, we'll retrain on the whole dataset"
   ]
  },
  {
   "cell_type": "code",
   "execution_count": 10,
   "id": "9ba5aaf0",
   "metadata": {},
   "outputs": [],
   "source": [
    "from sklearn.model_selection import train_test_split"
   ]
  },
  {
   "cell_type": "code",
   "execution_count": 14,
   "id": "2c20ff29",
   "metadata": {},
   "outputs": [],
   "source": [
    "X_train, X_val, y_train, y_val = train_test_split(train_data_proc, train_label, test_size=0.2, random_state=42, stratify=train_label)"
   ]
  },
  {
   "cell_type": "code",
   "execution_count": 15,
   "id": "efa6d008",
   "metadata": {},
   "outputs": [],
   "source": [
    "pool_train = Pool(data=X_train, label=y_train, cat_features=cat_cols)\n",
    "pool_val = Pool(data=X_val, label=y_val, cat_features=cat_cols)"
   ]
  },
  {
   "cell_type": "markdown",
   "id": "81ffd9b0",
   "metadata": {},
   "source": [
    "We cann see, that the task is imbalanced"
   ]
  },
  {
   "cell_type": "code",
   "execution_count": 16,
   "id": "461c533c",
   "metadata": {},
   "outputs": [
    {
     "data": {
      "application/vnd.microsoft.datawrangler.viewer.v0+json": {
       "columns": [
        {
         "name": "target",
         "rawType": "int64",
         "type": "integer"
        },
        {
         "name": "count",
         "rawType": "int64",
         "type": "integer"
        }
       ],
       "ref": "872c9eb5-1847-4722-9176-637dbf61251c",
       "rows": [
        [
         "0",
         "625541"
        ],
        [
         "1",
         "3603"
        ]
       ],
       "shape": {
        "columns": 1,
        "rows": 2
       }
      },
      "text/plain": [
       "target\n",
       "0    625541\n",
       "1      3603\n",
       "Name: count, dtype: int64"
      ]
     },
     "execution_count": 16,
     "metadata": {},
     "output_type": "execute_result"
    }
   ],
   "source": [
    "y_train.value_counts()"
   ]
  },
  {
   "cell_type": "markdown",
   "id": "0da8837a",
   "metadata": {},
   "source": [
    "Given the imbalanced nature of the task, we assign weights"
   ]
  },
  {
   "cell_type": "code",
   "execution_count": 17,
   "id": "c28877a9",
   "metadata": {},
   "outputs": [],
   "source": [
    "minor_class_weight = y_train.value_counts()[0] / y_train.value_counts()[1]\n",
    "dict_weight = {0: 1, 1: minor_class_weight}"
   ]
  },
  {
   "cell_type": "code",
   "execution_count": 18,
   "id": "5bcf1c24",
   "metadata": {},
   "outputs": [],
   "source": [
    "model = CatBoostClassifier(iterations=50, class_weights=dict_weight, eval_metric='PRAUC', one_hot_max_size=50, random_seed=42)"
   ]
  },
  {
   "cell_type": "code",
   "execution_count": 19,
   "id": "0b7a24cc",
   "metadata": {},
   "outputs": [
    {
     "data": {
      "application/vnd.jupyter.widget-view+json": {
       "model_id": "adb8d9dd812144b0963d45c5094ab8c0",
       "version_major": 2,
       "version_minor": 0
      },
      "text/plain": [
       "MetricVisualizer(layout=Layout(align_self='stretch', height='500px'))"
      ]
     },
     "metadata": {},
     "output_type": "display_data"
    },
    {
     "name": "stdout",
     "output_type": "stream",
     "text": [
      "Learning rate set to 0.5\n",
      "0:\tlearn: 0.9494423\ttest: 0.9464673\tbest: 0.9464673 (0)\ttotal: 420ms\tremaining: 20.6s\n",
      "1:\tlearn: 0.9671675\ttest: 0.9663581\tbest: 0.9663581 (1)\ttotal: 723ms\tremaining: 17.4s\n",
      "2:\tlearn: 0.9741084\ttest: 0.9726790\tbest: 0.9726790 (2)\ttotal: 1.02s\tremaining: 16s\n",
      "3:\tlearn: 0.9742348\ttest: 0.9781114\tbest: 0.9781114 (3)\ttotal: 1.25s\tremaining: 14.4s\n",
      "4:\tlearn: 0.9805049\ttest: 0.9817951\tbest: 0.9817951 (4)\ttotal: 1.48s\tremaining: 13.3s\n",
      "5:\tlearn: 0.9850306\ttest: 0.9840122\tbest: 0.9840122 (5)\ttotal: 1.61s\tremaining: 11.8s\n",
      "6:\tlearn: 0.9859770\ttest: 0.9851912\tbest: 0.9851912 (6)\ttotal: 1.79s\tremaining: 11s\n",
      "7:\tlearn: 0.9868444\ttest: 0.9860871\tbest: 0.9860871 (7)\ttotal: 1.99s\tremaining: 10.4s\n",
      "8:\tlearn: 0.9884304\ttest: 0.9877156\tbest: 0.9877156 (8)\ttotal: 2.21s\tremaining: 10.1s\n",
      "9:\tlearn: 0.9892365\ttest: 0.9884323\tbest: 0.9884323 (9)\ttotal: 2.37s\tremaining: 9.47s\n",
      "10:\tlearn: 0.9921513\ttest: 0.9912025\tbest: 0.9912025 (10)\ttotal: 2.56s\tremaining: 9.07s\n",
      "11:\tlearn: 0.9923175\ttest: 0.9913289\tbest: 0.9913289 (11)\ttotal: 2.73s\tremaining: 8.63s\n",
      "12:\tlearn: 0.9930147\ttest: 0.9919129\tbest: 0.9919129 (12)\ttotal: 2.92s\tremaining: 8.3s\n",
      "13:\tlearn: 0.9933343\ttest: 0.9921404\tbest: 0.9921404 (13)\ttotal: 3.08s\tremaining: 7.93s\n",
      "14:\tlearn: 0.9937448\ttest: 0.9926227\tbest: 0.9926227 (14)\ttotal: 3.27s\tremaining: 7.62s\n",
      "15:\tlearn: 0.9938658\ttest: 0.9927641\tbest: 0.9927641 (15)\ttotal: 3.43s\tremaining: 7.28s\n",
      "16:\tlearn: 0.9941285\ttest: 0.9928949\tbest: 0.9928949 (16)\ttotal: 3.74s\tremaining: 7.25s\n",
      "17:\tlearn: 0.9950839\ttest: 0.9939184\tbest: 0.9939184 (17)\ttotal: 3.9s\tremaining: 6.93s\n",
      "18:\tlearn: 0.9954074\ttest: 0.9942339\tbest: 0.9942339 (18)\ttotal: 4.07s\tremaining: 6.65s\n",
      "19:\tlearn: 0.9955071\ttest: 0.9943502\tbest: 0.9943502 (19)\ttotal: 4.24s\tremaining: 6.36s\n",
      "20:\tlearn: 0.9955925\ttest: 0.9944107\tbest: 0.9944107 (20)\ttotal: 4.47s\tremaining: 6.17s\n",
      "21:\tlearn: 0.9957281\ttest: 0.9944241\tbest: 0.9944241 (21)\ttotal: 4.74s\tremaining: 6.03s\n",
      "22:\tlearn: 0.9958819\ttest: 0.9946081\tbest: 0.9946081 (22)\ttotal: 4.9s\tremaining: 5.76s\n",
      "23:\tlearn: 0.9959992\ttest: 0.9947651\tbest: 0.9947651 (23)\ttotal: 5.05s\tremaining: 5.47s\n",
      "24:\tlearn: 0.9960991\ttest: 0.9948461\tbest: 0.9948461 (24)\ttotal: 5.18s\tremaining: 5.18s\n",
      "25:\tlearn: 0.9962327\ttest: 0.9950094\tbest: 0.9950094 (25)\ttotal: 5.33s\tremaining: 4.92s\n",
      "26:\tlearn: 0.9963333\ttest: 0.9950405\tbest: 0.9950405 (26)\ttotal: 5.48s\tremaining: 4.67s\n",
      "27:\tlearn: 0.9963921\ttest: 0.9950577\tbest: 0.9950577 (27)\ttotal: 5.61s\tremaining: 4.41s\n",
      "28:\tlearn: 0.9964946\ttest: 0.9951313\tbest: 0.9951313 (28)\ttotal: 5.75s\tremaining: 4.16s\n",
      "29:\tlearn: 0.9966418\ttest: 0.9953049\tbest: 0.9953049 (29)\ttotal: 5.88s\tremaining: 3.92s\n",
      "30:\tlearn: 0.9968478\ttest: 0.9954495\tbest: 0.9954495 (30)\ttotal: 6.02s\tremaining: 3.69s\n",
      "31:\tlearn: 0.9969232\ttest: 0.9956212\tbest: 0.9956212 (31)\ttotal: 6.15s\tremaining: 3.46s\n",
      "32:\tlearn: 0.9970821\ttest: 0.9957528\tbest: 0.9957528 (32)\ttotal: 6.29s\tremaining: 3.24s\n",
      "33:\tlearn: 0.9971231\ttest: 0.9957395\tbest: 0.9957528 (32)\ttotal: 6.55s\tremaining: 3.08s\n",
      "34:\tlearn: 0.9974957\ttest: 0.9961829\tbest: 0.9961829 (34)\ttotal: 6.69s\tremaining: 2.87s\n",
      "35:\tlearn: 0.9976167\ttest: 0.9962674\tbest: 0.9962674 (35)\ttotal: 6.83s\tremaining: 2.65s\n",
      "36:\tlearn: 0.9976723\ttest: 0.9962294\tbest: 0.9962674 (35)\ttotal: 6.96s\tremaining: 2.44s\n",
      "37:\tlearn: 0.9977094\ttest: 0.9962681\tbest: 0.9962681 (37)\ttotal: 7.1s\tremaining: 2.24s\n",
      "38:\tlearn: 0.9977570\ttest: 0.9962749\tbest: 0.9962749 (38)\ttotal: 7.24s\tremaining: 2.04s\n",
      "39:\tlearn: 0.9977558\ttest: 0.9962011\tbest: 0.9962749 (38)\ttotal: 7.38s\tremaining: 1.84s\n",
      "40:\tlearn: 0.9977344\ttest: 0.9961751\tbest: 0.9962749 (38)\ttotal: 7.52s\tremaining: 1.65s\n",
      "41:\tlearn: 0.9977755\ttest: 0.9962376\tbest: 0.9962749 (38)\ttotal: 7.66s\tremaining: 1.46s\n",
      "42:\tlearn: 0.9978265\ttest: 0.9962775\tbest: 0.9962775 (42)\ttotal: 7.83s\tremaining: 1.27s\n",
      "43:\tlearn: 0.9978678\ttest: 0.9962468\tbest: 0.9962775 (42)\ttotal: 7.97s\tremaining: 1.09s\n",
      "44:\tlearn: 0.9979029\ttest: 0.9962790\tbest: 0.9962790 (44)\ttotal: 8.1s\tremaining: 901ms\n",
      "45:\tlearn: 0.9979436\ttest: 0.9962943\tbest: 0.9962943 (45)\ttotal: 8.24s\tremaining: 716ms\n",
      "46:\tlearn: 0.9979616\ttest: 0.9962858\tbest: 0.9962943 (45)\ttotal: 8.38s\tremaining: 535ms\n",
      "47:\tlearn: 0.9979773\ttest: 0.9963006\tbest: 0.9963006 (47)\ttotal: 8.51s\tremaining: 355ms\n",
      "48:\tlearn: 0.9980056\ttest: 0.9963024\tbest: 0.9963024 (48)\ttotal: 8.64s\tremaining: 176ms\n",
      "49:\tlearn: 0.9980527\ttest: 0.9963419\tbest: 0.9963419 (49)\ttotal: 8.79s\tremaining: 0us\n",
      "\n",
      "bestTest = 0.9963419497\n",
      "bestIteration = 49\n",
      "\n"
     ]
    },
    {
     "data": {
      "text/plain": [
       "<catboost.core.CatBoostClassifier at 0x1351a0100>"
      ]
     },
     "execution_count": 19,
     "metadata": {},
     "output_type": "execute_result"
    }
   ],
   "source": [
    "model.fit(pool_train, eval_set=pool_val, plot=True, early_stopping_rounds=50)"
   ]
  },
  {
   "cell_type": "markdown",
   "id": "9d678c17",
   "metadata": {},
   "source": [
    "The metrics are descent, so we will proceed with this model. Now we would like to find the best threshold based on `cohen_kappa_score` and `matthews_corrcoef`"
   ]
  },
  {
   "cell_type": "code",
   "execution_count": 21,
   "id": "72b6e51e",
   "metadata": {},
   "outputs": [],
   "source": [
    "from sklearn.metrics import cohen_kappa_score"
   ]
  },
  {
   "cell_type": "code",
   "execution_count": 22,
   "id": "8eb7504d",
   "metadata": {},
   "outputs": [],
   "source": [
    "pred_val = model.predict_proba(X_val)[:, 1]"
   ]
  },
  {
   "cell_type": "code",
   "execution_count": 23,
   "id": "9543052a",
   "metadata": {},
   "outputs": [],
   "source": [
    "thresholds = np.arange(0.0, 1.01, 0.01)\n",
    "best_cohen = -1.0\n",
    "best_threshold = 0.0\n",
    "\n",
    "for threshold in thresholds:\n",
    "    cohen = cohen_kappa_score(y_val, np.where(pred_val > threshold, 1, 0))\n",
    "    if cohen > best_cohen:\n",
    "        best_cohen = cohen\n",
    "        best_threshold = threshold\n"
   ]
  },
  {
   "cell_type": "code",
   "execution_count": 26,
   "id": "721a1092",
   "metadata": {},
   "outputs": [
    {
     "name": "stdout",
     "output_type": "stream",
     "text": [
      "Best cohen_cappa_score: 0.7123620113225572\n",
      "Best threshold: 0.98\n"
     ]
    }
   ],
   "source": [
    "print(f'Best cohen_cappa_score: {best_cohen}')\n",
    "print(f'Best threshold: {best_threshold}')"
   ]
  },
  {
   "cell_type": "markdown",
   "id": "d81ea881",
   "metadata": {},
   "source": [
    "Now we can train the model on the whole train dataset"
   ]
  },
  {
   "cell_type": "code",
   "execution_count": 27,
   "id": "b026e344",
   "metadata": {},
   "outputs": [],
   "source": [
    "train_data = pd.read_csv('../data/train.csv')\n",
    "\n",
    "train_data_proc = run_preproc(train_data)\n",
    "train_label = train_data['target']\n",
    "\n",
    "pool_train = Pool(data=train_data_proc, label=train_label, cat_features=cat_cols)"
   ]
  },
  {
   "cell_type": "code",
   "execution_count": 29,
   "id": "0322a4fc",
   "metadata": {},
   "outputs": [],
   "source": [
    "minor_class_weight = train_label.value_counts()[0] / train_label.value_counts()[1]\n",
    "dict_weight = {0: 1, 1: minor_class_weight}"
   ]
  },
  {
   "cell_type": "code",
   "execution_count": 30,
   "id": "7c272718",
   "metadata": {},
   "outputs": [],
   "source": [
    "model = CatBoostClassifier(iterations=50, class_weights=dict_weight, eval_metric='PRAUC', one_hot_max_size=50, random_seed=42)"
   ]
  },
  {
   "cell_type": "code",
   "execution_count": 31,
   "id": "198b0a62",
   "metadata": {},
   "outputs": [
    {
     "data": {
      "application/vnd.jupyter.widget-view+json": {
       "model_id": "f318f0f49dd34dcfb2e5ca102a211398",
       "version_major": 2,
       "version_minor": 0
      },
      "text/plain": [
       "MetricVisualizer(layout=Layout(align_self='stretch', height='500px'))"
      ]
     },
     "metadata": {},
     "output_type": "display_data"
    },
    {
     "name": "stdout",
     "output_type": "stream",
     "text": [
      "Learning rate set to 0.5\n",
      "0:\tlearn: 0.9508108\ttest: 0.9508108\tbest: 0.9508108 (0)\ttotal: 171ms\tremaining: 8.36s\n",
      "1:\tlearn: 0.9693717\ttest: 0.9693717\tbest: 0.9693717 (1)\ttotal: 316ms\tremaining: 7.58s\n",
      "2:\tlearn: 0.9748894\ttest: 0.9748894\tbest: 0.9748894 (2)\ttotal: 462ms\tremaining: 7.23s\n",
      "3:\tlearn: 0.9778988\ttest: 0.9778988\tbest: 0.9778988 (3)\ttotal: 633ms\tremaining: 7.28s\n",
      "4:\tlearn: 0.9808035\ttest: 0.9808035\tbest: 0.9808035 (4)\ttotal: 793ms\tremaining: 7.14s\n",
      "5:\tlearn: 0.9831287\ttest: 0.9831287\tbest: 0.9831287 (5)\ttotal: 979ms\tremaining: 7.18s\n",
      "6:\tlearn: 0.9876798\ttest: 0.9876798\tbest: 0.9876798 (6)\ttotal: 1.18s\tremaining: 7.22s\n",
      "7:\tlearn: 0.9888230\ttest: 0.9888230\tbest: 0.9888230 (7)\ttotal: 1.33s\tremaining: 7.01s\n",
      "8:\tlearn: 0.9891194\ttest: 0.9891194\tbest: 0.9891194 (8)\ttotal: 1.55s\tremaining: 7.05s\n",
      "9:\tlearn: 0.9905486\ttest: 0.9905486\tbest: 0.9905486 (9)\ttotal: 1.73s\tremaining: 6.92s\n",
      "10:\tlearn: 0.9910163\ttest: 0.9910163\tbest: 0.9910163 (10)\ttotal: 1.91s\tremaining: 6.77s\n",
      "11:\tlearn: 0.9920214\ttest: 0.9920214\tbest: 0.9920214 (11)\ttotal: 2.12s\tremaining: 6.7s\n",
      "12:\tlearn: 0.9937298\ttest: 0.9937298\tbest: 0.9937298 (12)\ttotal: 2.31s\tremaining: 6.57s\n",
      "13:\tlearn: 0.9941389\ttest: 0.9941389\tbest: 0.9941389 (13)\ttotal: 2.51s\tremaining: 6.46s\n",
      "14:\tlearn: 0.9945178\ttest: 0.9945178\tbest: 0.9945178 (14)\ttotal: 2.71s\tremaining: 6.33s\n",
      "15:\tlearn: 0.9949866\ttest: 0.9949866\tbest: 0.9949866 (15)\ttotal: 2.92s\tremaining: 6.21s\n",
      "16:\tlearn: 0.9951387\ttest: 0.9951387\tbest: 0.9951387 (16)\ttotal: 3.14s\tremaining: 6.1s\n",
      "17:\tlearn: 0.9953225\ttest: 0.9953225\tbest: 0.9953225 (17)\ttotal: 3.37s\tremaining: 5.99s\n",
      "18:\tlearn: 0.9955489\ttest: 0.9955489\tbest: 0.9955489 (18)\ttotal: 3.6s\tremaining: 5.87s\n",
      "19:\tlearn: 0.9957526\ttest: 0.9957526\tbest: 0.9957526 (19)\ttotal: 3.81s\tremaining: 5.72s\n",
      "20:\tlearn: 0.9960855\ttest: 0.9960855\tbest: 0.9960855 (20)\ttotal: 4.05s\tremaining: 5.59s\n",
      "21:\tlearn: 0.9961697\ttest: 0.9961680\tbest: 0.9961680 (21)\ttotal: 4.29s\tremaining: 5.46s\n",
      "22:\tlearn: 0.9961855\ttest: 0.9961847\tbest: 0.9961847 (22)\ttotal: 4.51s\tremaining: 5.29s\n",
      "23:\tlearn: 0.9962534\ttest: 0.9962527\tbest: 0.9962527 (23)\ttotal: 4.75s\tremaining: 5.15s\n",
      "24:\tlearn: 0.9963450\ttest: 0.9963444\tbest: 0.9963444 (24)\ttotal: 5s\tremaining: 5s\n",
      "25:\tlearn: 0.9964031\ttest: 0.9964038\tbest: 0.9964038 (25)\ttotal: 5.27s\tremaining: 4.86s\n",
      "26:\tlearn: 0.9964916\ttest: 0.9964921\tbest: 0.9964921 (26)\ttotal: 5.51s\tremaining: 4.7s\n",
      "27:\tlearn: 0.9965660\ttest: 0.9965666\tbest: 0.9965666 (27)\ttotal: 5.75s\tremaining: 4.52s\n",
      "28:\tlearn: 0.9967185\ttest: 0.9967191\tbest: 0.9967191 (28)\ttotal: 5.99s\tremaining: 4.33s\n",
      "29:\tlearn: 0.9968470\ttest: 0.9968476\tbest: 0.9968476 (29)\ttotal: 6.22s\tremaining: 4.15s\n",
      "30:\tlearn: 0.9969437\ttest: 0.9969444\tbest: 0.9969444 (30)\ttotal: 6.46s\tremaining: 3.96s\n",
      "31:\tlearn: 0.9969930\ttest: 0.9969934\tbest: 0.9969934 (31)\ttotal: 6.69s\tremaining: 3.76s\n",
      "32:\tlearn: 0.9971461\ttest: 0.9971462\tbest: 0.9971462 (32)\ttotal: 6.92s\tremaining: 3.56s\n",
      "33:\tlearn: 0.9971757\ttest: 0.9971757\tbest: 0.9971757 (33)\ttotal: 7.15s\tremaining: 3.36s\n",
      "34:\tlearn: 0.9973160\ttest: 0.9973162\tbest: 0.9973162 (34)\ttotal: 7.38s\tremaining: 3.16s\n",
      "35:\tlearn: 0.9974209\ttest: 0.9974218\tbest: 0.9974218 (35)\ttotal: 7.62s\tremaining: 2.96s\n",
      "36:\tlearn: 0.9974773\ttest: 0.9974783\tbest: 0.9974783 (36)\ttotal: 7.85s\tremaining: 2.76s\n",
      "37:\tlearn: 0.9975072\ttest: 0.9975080\tbest: 0.9975080 (37)\ttotal: 8.08s\tremaining: 2.55s\n",
      "38:\tlearn: 0.9975373\ttest: 0.9975380\tbest: 0.9975380 (38)\ttotal: 8.41s\tremaining: 2.37s\n",
      "39:\tlearn: 0.9975650\ttest: 0.9975658\tbest: 0.9975658 (39)\ttotal: 8.66s\tremaining: 2.17s\n",
      "40:\tlearn: 0.9976250\ttest: 0.9976258\tbest: 0.9976258 (40)\ttotal: 8.89s\tremaining: 1.95s\n",
      "41:\tlearn: 0.9976455\ttest: 0.9976464\tbest: 0.9976464 (41)\ttotal: 9.13s\tremaining: 1.74s\n",
      "42:\tlearn: 0.9976772\ttest: 0.9976784\tbest: 0.9976784 (42)\ttotal: 9.37s\tremaining: 1.52s\n",
      "43:\tlearn: 0.9977532\ttest: 0.9977542\tbest: 0.9977542 (43)\ttotal: 9.65s\tremaining: 1.31s\n",
      "44:\tlearn: 0.9977717\ttest: 0.9977727\tbest: 0.9977727 (44)\ttotal: 9.9s\tremaining: 1.1s\n",
      "45:\tlearn: 0.9977969\ttest: 0.9977979\tbest: 0.9977979 (45)\ttotal: 10.1s\tremaining: 882ms\n",
      "46:\tlearn: 0.9978055\ttest: 0.9978067\tbest: 0.9978067 (46)\ttotal: 10.4s\tremaining: 662ms\n",
      "47:\tlearn: 0.9978419\ttest: 0.9978430\tbest: 0.9978430 (47)\ttotal: 10.6s\tremaining: 442ms\n",
      "48:\tlearn: 0.9978634\ttest: 0.9978646\tbest: 0.9978646 (48)\ttotal: 10.9s\tremaining: 222ms\n",
      "49:\tlearn: 0.9979007\ttest: 0.9979019\tbest: 0.9979019 (49)\ttotal: 11.1s\tremaining: 0us\n",
      "\n",
      "bestTest = 0.997901939\n",
      "bestIteration = 49\n",
      "\n"
     ]
    },
    {
     "data": {
      "text/plain": [
       "<catboost.core.CatBoostClassifier at 0x136b4b430>"
      ]
     },
     "execution_count": 31,
     "metadata": {},
     "output_type": "execute_result"
    }
   ],
   "source": [
    "model.fit(pool_train, eval_set=pool_train, plot=True, early_stopping_rounds=50)"
   ]
  },
  {
   "cell_type": "code",
   "execution_count": 33,
   "id": "b2adbd25",
   "metadata": {},
   "outputs": [],
   "source": [
    "model.save_model('../models/fraud_detection_model.cbm')"
   ]
  },
  {
   "cell_type": "markdown",
   "id": "8c2265c6",
   "metadata": {},
   "source": []
  }
 ],
 "metadata": {
  "kernelspec": {
   "display_name": "juppr (3.10.11)",
   "language": "python",
   "name": "python3"
  },
  "language_info": {
   "codemirror_mode": {
    "name": "ipython",
    "version": 3
   },
   "file_extension": ".py",
   "mimetype": "text/x-python",
   "name": "python",
   "nbconvert_exporter": "python",
   "pygments_lexer": "ipython3",
   "version": "3.10.11"
  }
 },
 "nbformat": 4,
 "nbformat_minor": 5
}
